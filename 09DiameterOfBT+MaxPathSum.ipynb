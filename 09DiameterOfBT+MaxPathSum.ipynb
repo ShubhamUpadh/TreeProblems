{
 "cells": [
  {
   "cell_type": "markdown",
   "id": "f4250bd1",
   "metadata": {},
   "source": [
    "Diameter \n",
    "1) Longest path between two nodes\n",
    "2) Not neccesarily pass via root node"
   ]
  },
  {
   "cell_type": "code",
   "execution_count": 2,
   "id": "297656b7",
   "metadata": {},
   "outputs": [],
   "source": [
    "class Node:\n",
    "    def __init__(self,value):\n",
    "        self.value = value\n",
    "        self.left = None\n",
    "        self.right = None\n",
    "\n",
    "class Tree:\n",
    "    def createNode(self,value):\n",
    "        return Node(value)\n",
    "    \n",
    "    def insertNode(self,root,value):\n",
    "        if not root:\n",
    "            return Node(value)\n",
    "        if root.value > value:\n",
    "            root.left = self.insertNode(root.left,value)\n",
    "        else:\n",
    "            root.right = self.insertNode(root.right,value)\n",
    "        return root\n",
    "    \n",
    "    \n",
    "    def diameterBT(self,root):\n",
    "        \n",
    "        def helper(root):\n",
    "            if root is None:\n",
    "                return [0,0]\n",
    "            lh = helper(root.left)\n",
    "            rh = helper(root.right)\n",
    "            return [1+max(lh[0],rh[0]),max(lh[0]+rh[0] + 2,lh[1],rh[1])]\n",
    "        \n",
    "        return helper(root)[1]\n",
    "    \n",
    "    \n",
    "    def diameterBT2(self,root):\n",
    "        maxH = 0\n",
    "        def helper(root,maxH):\n",
    "            if root == None:\n",
    "                return 0\n",
    "            lh = helper(root.left,maxH)\n",
    "            rh = helper(root.right,maxH)\n",
    "            maxH = max(maxH,lh+rh)\n",
    "            return 1 + max(lh,rh)\n",
    "        return helper(root,maxH)\n",
    "    \n",
    "    def maxPathSum(self,root):\n",
    "        \n",
    "        def helper(root):\n",
    "            if root is None:\n",
    "                return [0,float(\"-inf\")]\n",
    "            lh = helper(root.left)[0]\n",
    "            rh = helper(root.right)[0]\n",
    "            \n",
    "            nodeSum = root.value + lh[0] + rh[0]\n",
    "            maxCurrSum = max(root.value, root.value + max(lh[0], rh[0]), max(lh[1],rh[1]), root.value + max(lh[1],rh[1]), nodeSum )\n",
    "            return [nodeSum,maxCurrSum]\n",
    "        \n",
    "        return helper(root)        \n",
    "        "
   ]
  },
  {
   "cell_type": "code",
   "execution_count": 3,
   "id": "2bd0e58a",
   "metadata": {},
   "outputs": [],
   "source": [
    "def isSameTree(root1,root2):\n",
    "    if root1 is None or root2 is None:\n",
    "        return root1 == root2\n",
    "    return root1.value == root2.value and isSameTree(root1.left,root2.left) and isSameTree(root1.right,root2.right)"
   ]
  },
  {
   "cell_type": "code",
   "execution_count": null,
   "id": "a6734a56",
   "metadata": {},
   "outputs": [],
   "source": []
  }
 ],
 "metadata": {
  "kernelspec": {
   "display_name": "Python 3 (ipykernel)",
   "language": "python",
   "name": "python3"
  },
  "language_info": {
   "codemirror_mode": {
    "name": "ipython",
    "version": 3
   },
   "file_extension": ".py",
   "mimetype": "text/x-python",
   "name": "python",
   "nbconvert_exporter": "python",
   "pygments_lexer": "ipython3",
   "version": "3.9.7"
  }
 },
 "nbformat": 4,
 "nbformat_minor": 5
}
