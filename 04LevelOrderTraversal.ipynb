{
 "cells": [
  {
   "cell_type": "code",
   "execution_count": 19,
   "id": "7d317d6b",
   "metadata": {},
   "outputs": [],
   "source": [
    "class Node:\n",
    "    \n",
    "    def __init__(self,value):\n",
    "        self.value = value\n",
    "        self.left = None\n",
    "        self.right = None\n"
   ]
  },
  {
   "cell_type": "code",
   "execution_count": 56,
   "id": "b09e16c4",
   "metadata": {},
   "outputs": [],
   "source": [
    "class Tree:\n",
    "    \n",
    "    def createNode(self,value):\n",
    "        return Node(value)\n",
    "    \n",
    "    def insertNode(self,root,value):\n",
    "        if not root:\n",
    "            return self.createNode(value)\n",
    "        if root.value > value:\n",
    "            root.left = self.insertNode(root.left,value)\n",
    "        else:\n",
    "            root.right = self.insertNode(root.right,value)\n",
    "        return root\n",
    "    \n",
    "    def levelOrder(self,root):\n",
    "        q = []\n",
    "        q.append(root)\n",
    "        while len(q):\n",
    "            root = q.pop(0)\n",
    "            print(root.value,end = \" \")\n",
    "            if root.left:\n",
    "                q.append(root.left)\n",
    "            if root.right:\n",
    "                q.append(root.right)\n",
    "    \n",
    "    \n",
    "    \n",
    "    def height(self,root):\n",
    "        \n",
    "        if not root:\n",
    "            return 0\n",
    "        \n",
    "        return 1 + max(self.height(root.left),self.height(root.right))\n",
    "    \n",
    "    def levelOrder2(self,root):\n",
    "        q = []\n",
    "        q.append(root)\n",
    "        while len(q):\n",
    "            root = q.pop(0)\n",
    "            print(root.value,end = \" \")\n",
    "            if root.left:\n",
    "                q.append(root.left)\n",
    "            if root.right:\n",
    "                q.append(root.right)\n",
    "        \n",
    "        \n",
    "        "
   ]
  },
  {
   "cell_type": "code",
   "execution_count": 57,
   "id": "38eaf7e1",
   "metadata": {},
   "outputs": [],
   "source": [
    "tree = Tree()\n",
    "root = tree.createNode(5)"
   ]
  },
  {
   "cell_type": "code",
   "execution_count": 58,
   "id": "0c031fae",
   "metadata": {},
   "outputs": [
    {
     "name": "stdout",
     "output_type": "stream",
     "text": [
      "[2, 10, 7, 15, 12, 20, 30, 6, 8]\n"
     ]
    }
   ],
   "source": [
    "elements = list(int(x) for x in \"2 10 7 15 12 20 30 6 8\".split(\" \"))\n",
    "print(elements)\n",
    "\n",
    "for element in elements:\n",
    "    tree.insertNode(root,element)"
   ]
  },
  {
   "cell_type": "code",
   "execution_count": 59,
   "id": "b65e668d",
   "metadata": {},
   "outputs": [
    {
     "name": "stdout",
     "output_type": "stream",
     "text": [
      "5 2 10 7 15 6 8 12 20 30 "
     ]
    }
   ],
   "source": [
    "tree.levelOrder(root)"
   ]
  },
  {
   "cell_type": "code",
   "execution_count": 60,
   "id": "e2770524",
   "metadata": {},
   "outputs": [
    {
     "name": "stdout",
     "output_type": "stream",
     "text": [
      "5\n"
     ]
    }
   ],
   "source": [
    "print(tree.height(root))"
   ]
  },
  {
   "cell_type": "code",
   "execution_count": 61,
   "id": "84ff43eb",
   "metadata": {},
   "outputs": [
    {
     "name": "stdout",
     "output_type": "stream",
     "text": [
      "5 2 10 7 15 6 8 12 20 30 "
     ]
    }
   ],
   "source": [
    "tree.levelOrder2(root)"
   ]
  }
 ],
 "metadata": {
  "kernelspec": {
   "display_name": "Python 3 (ipykernel)",
   "language": "python",
   "name": "python3"
  },
  "language_info": {
   "codemirror_mode": {
    "name": "ipython",
    "version": 3
   },
   "file_extension": ".py",
   "mimetype": "text/x-python",
   "name": "python",
   "nbconvert_exporter": "python",
   "pygments_lexer": "ipython3",
   "version": "3.9.7"
  }
 },
 "nbformat": 4,
 "nbformat_minor": 5
}
