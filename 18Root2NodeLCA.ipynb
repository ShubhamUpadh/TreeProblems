{
 "cells": [
  {
   "cell_type": "code",
   "execution_count": 1,
   "id": "0163b537",
   "metadata": {},
   "outputs": [],
   "source": [
    "class Node:\n",
    "    def __init__(self,value):\n",
    "        self.value = value\n",
    "        self.left = None\n",
    "        self.right = None"
   ]
  },
  {
   "cell_type": "code",
   "execution_count": null,
   "id": "d3e86342",
   "metadata": {},
   "outputs": [],
   "source": [
    "class Tree:\n",
    "    def pathRootToNode(self,node,value,arr):\n",
    "        if node is None:\n",
    "            return False\n",
    "        arr.append(node.value)\n",
    "        if node.value == value:\n",
    "            return True\n",
    "        if self.pathRootToNode(node.left,value,arr) or self.pathRootToNode(node.right,value,arr):\n",
    "            return True\n",
    "        arr.pop()\n",
    "        return False\n",
    "    \n",
    "    def LCA(self,node,node1,node2):\n",
    "        if node is None or node in (node1,node2):\n",
    "            return node\n",
    "        leftCheck = self.LCA(node.left,node1,node2)\n",
    "        rightCheck = self.LCA(node.right,node1,node2)\n",
    "        if leftCheck is None:\n",
    "            return rightCheck\n",
    "        elif rightCheck is None:\n",
    "            return leftCheck\n",
    "        else:\n",
    "            return node\n",
    "            \n",
    "            \n",
    "            "
   ]
  }
 ],
 "metadata": {
  "kernelspec": {
   "display_name": "Python 3 (ipykernel)",
   "language": "python",
   "name": "python3"
  },
  "language_info": {
   "codemirror_mode": {
    "name": "ipython",
    "version": 3
   },
   "file_extension": ".py",
   "mimetype": "text/x-python",
   "name": "python",
   "nbconvert_exporter": "python",
   "pygments_lexer": "ipython3",
   "version": "3.9.7"
  }
 },
 "nbformat": 4,
 "nbformat_minor": 5
}
