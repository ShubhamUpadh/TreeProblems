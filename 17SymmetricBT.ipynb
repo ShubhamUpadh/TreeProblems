{
 "cells": [
  {
   "cell_type": "code",
   "execution_count": 1,
   "id": "ae63cff5",
   "metadata": {},
   "outputs": [],
   "source": [
    "class Node:\n",
    "    def __init__(self,value):\n",
    "        self.value = value\n",
    "        self.left = None\n",
    "        self.right = None"
   ]
  },
  {
   "cell_type": "code",
   "execution_count": null,
   "id": "9e572786",
   "metadata": {},
   "outputs": [],
   "source": [
    "class Tree:\n",
    "    def isSymmetric(self,root):\n",
    "        def helper(root1,root2):\n",
    "            if root1 == None or root2 == None:\n",
    "                return root1 == root2\n",
    "            if root1.value == root2.value:\n",
    "                return helper(root1.left,root2.right) and helper(root1.right,root2.left)\n",
    "            else:\n",
    "                return False\n",
    "        if root is None:\n",
    "            return True\n",
    "        return helper(root.left,root.right)"
   ]
  }
 ],
 "metadata": {
  "kernelspec": {
   "display_name": "Python 3 (ipykernel)",
   "language": "python",
   "name": "python3"
  },
  "language_info": {
   "codemirror_mode": {
    "name": "ipython",
    "version": 3
   },
   "file_extension": ".py",
   "mimetype": "text/x-python",
   "name": "python",
   "nbconvert_exporter": "python",
   "pygments_lexer": "ipython3",
   "version": "3.9.7"
  }
 },
 "nbformat": 4,
 "nbformat_minor": 5
}
