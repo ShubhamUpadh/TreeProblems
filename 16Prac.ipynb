{
 "cells": [
  {
   "cell_type": "code",
   "execution_count": 1,
   "id": "78a9964e",
   "metadata": {},
   "outputs": [],
   "source": [
    "class Node:\n",
    "    def __init__(self,value):\n",
    "        self.value = value\n",
    "        self.left = None\n",
    "        self.right = None\n",
    "        self.height = None"
   ]
  },
  {
   "cell_type": "code",
   "execution_count": 2,
   "id": "57d80d44",
   "metadata": {},
   "outputs": [],
   "source": [
    "class Tree:\n",
    "    def createNode(self,value):\n",
    "        return Node(value)\n",
    "    \n",
    "    def insertNode(Self,root,value):\n",
    "        if root is None:\n",
    "            return self.createNode(value)\n",
    "        if root.value > value:\n",
    "            root.left = self.insertNode(root.left,value)\n",
    "        else:\n",
    "            root.right = self.insertNode(root.right,value)\n",
    "        return root\n",
    "    \n",
    "    def ZigZag(self,root):\n",
    "        q = []\n",
    "        q.append(root)\n",
    "        flag = True\n",
    "        retList = []\n",
    "        while len(q):\n",
    "            currLen = len(q)\n",
    "            currList = []\n",
    "            for i in range(currLen):\n",
    "                node = q.pop(0)\n",
    "                if node.left:\n",
    "                    q.append(node.left)\n",
    "                if node.right:\n",
    "                    q.append(node.right)\n",
    "                currList.append(node.value)\n",
    "            if not flag:\n",
    "                currList = currList[::-1]\n",
    "            flag = not flag\n",
    "            retList.append(currList)\n",
    "        return retList\n",
    "    \n",
    "    def maxPathSum(self,root):\n",
    "        def mPShelper(node):\n",
    "            if node is None:\n",
    "                return [0,float(\"-inf\")]\n",
    "            lh = mPShelper(node.left)\n",
    "            rh = mPShelper(node.right)\n",
    "            currNodeSum = max(node.value,node.value + max(lh[0],rh[0]))\n",
    "            currMaxSum = max(lh[1], rh[1], currNodeSum, node.value + lh[0] + rh[0])\n",
    "            \n",
    "            return [currNodeSum,currMaxSum]\n",
    "        return mPShelper(root)[1]\n",
    "    \n",
    "    def rightViewRecursive(self,root):\n",
    "        level = 0\n",
    "        retList = []\n",
    "        def rVRhelper(node,level):\n",
    "            if node is None:\n",
    "                return\n",
    "            if level == len(retList):\n",
    "                retList.append(node.value)\n",
    "            rVRhelper(node.right,level+1)\n",
    "            rVRhelper(node.left,level+1)\n",
    "            return"
   ]
  }
 ],
 "metadata": {
  "kernelspec": {
   "display_name": "Python 3 (ipykernel)",
   "language": "python",
   "name": "python3"
  },
  "language_info": {
   "codemirror_mode": {
    "name": "ipython",
    "version": 3
   },
   "file_extension": ".py",
   "mimetype": "text/x-python",
   "name": "python",
   "nbconvert_exporter": "python",
   "pygments_lexer": "ipython3",
   "version": "3.9.7"
  }
 },
 "nbformat": 4,
 "nbformat_minor": 5
}
