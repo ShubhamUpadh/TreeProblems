{
 "cells": [
  {
   "cell_type": "code",
   "execution_count": 1,
   "id": "7cc1a572",
   "metadata": {},
   "outputs": [],
   "source": [
    "class Node:\n",
    "    def __init__(self,value):\n",
    "        self.value = value\n",
    "        self.left = None\n",
    "        self.right = None"
   ]
  },
  {
   "cell_type": "code",
   "execution_count": null,
   "id": "a40b7dc6",
   "metadata": {},
   "outputs": [],
   "source": [
    "class Tree:\n",
    "    def createNode(self,value):\n",
    "        return Node(value)\n",
    "    \n",
    "    def insertNode(Self,root,value):\n",
    "        if root is None:\n",
    "            return self.createNode(value)\n",
    "        if root.value > value:\n",
    "            root.left = self.insertNode(root.left,value)\n",
    "        else:\n",
    "            root.right = self.insertNode(root.right,value)\n",
    "        return root\n",
    "    \n",
    "    def ZigZagTraversal(self,root):\n",
    "        flag = True\n",
    "        q = []\n",
    "        q.append(root)\n",
    "        retList = []\n",
    "        while len(q):\n",
    "            lenLevel = len(q)\n",
    "            currLevel = []\n",
    "            for i in lenLevel:\n",
    "                root = q.pop(0)\n",
    "                if root.left:\n",
    "                    q.append(root.left)\n",
    "                if root.right:\n",
    "                    q.append(root.right)\n",
    "                currLevel.append(root.value)\n",
    "            if not flag:\n",
    "                currLevel = currLevel[::-1]\n",
    "            flag = not flag\n",
    "            retList.append(currLevel)\n",
    "        \n",
    "        return retList           \n",
    "        "
   ]
  }
 ],
 "metadata": {
  "kernelspec": {
   "display_name": "Python 3 (ipykernel)",
   "language": "python",
   "name": "python3"
  },
  "language_info": {
   "codemirror_mode": {
    "name": "ipython",
    "version": 3
   },
   "file_extension": ".py",
   "mimetype": "text/x-python",
   "name": "python",
   "nbconvert_exporter": "python",
   "pygments_lexer": "ipython3",
   "version": "3.9.7"
  }
 },
 "nbformat": 4,
 "nbformat_minor": 5
}
