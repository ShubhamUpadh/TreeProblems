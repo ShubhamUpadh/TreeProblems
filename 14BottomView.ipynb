{
 "cells": [
  {
   "cell_type": "code",
   "execution_count": 1,
   "id": "f95a5bdf",
   "metadata": {},
   "outputs": [],
   "source": [
    "class Node:\n",
    "    def __init__(self,value):\n",
    "        self.value = value\n",
    "        self.left = None\n",
    "        self.right = None\n",
    "        self.level = None"
   ]
  },
  {
   "cell_type": "code",
   "execution_count": null,
   "id": "561416a6",
   "metadata": {},
   "outputs": [],
   "source": [
    "class Tree:\n",
    "    def createNode(self,value):\n",
    "        return Node(value)\n",
    "    \n",
    "    def insertNode(Self,root,value):\n",
    "        if root is None:\n",
    "            return self.createNode(value)\n",
    "        if root.value > value:\n",
    "            root.left = self.insertNode(root.left,value)\n",
    "        else:\n",
    "            root.right = self.insertNode(root.right,value)\n",
    "        return root\n",
    "    \n",
    "    def bottomView(self,root):\n",
    "        q = []\n",
    "        q.append(root)\n",
    "        root.level = 0\n",
    "        hashMap = {}\n",
    "        while len(q):\n",
    "            node = q.pop(0)\n",
    "            hashMap[node.level] = node.value\n",
    "            if node.left:\n",
    "                q.append(node.left)\n",
    "                node.left.level = node.level - 1\n",
    "            if node.right:\n",
    "                node.right.level = node.level + 1\n",
    "                q.append(node.right)\n",
    "        for key in sorted(hashMap):\n",
    "            print(hashMap[key])\n",
    "    "
   ]
  }
 ],
 "metadata": {
  "kernelspec": {
   "display_name": "Python 3 (ipykernel)",
   "language": "python",
   "name": "python3"
  },
  "language_info": {
   "codemirror_mode": {
    "name": "ipython",
    "version": 3
   },
   "file_extension": ".py",
   "mimetype": "text/x-python",
   "name": "python",
   "nbconvert_exporter": "python",
   "pygments_lexer": "ipython3",
   "version": "3.9.7"
  }
 },
 "nbformat": 4,
 "nbformat_minor": 5
}
