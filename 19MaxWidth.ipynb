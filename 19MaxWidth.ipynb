{
 "cells": [
  {
   "cell_type": "code",
   "execution_count": 1,
   "id": "d87fb9bb",
   "metadata": {},
   "outputs": [],
   "source": [
    "class Node:\n",
    "    def __init__(self,value):\n",
    "        self.value = value\n",
    "        self.left = None\n",
    "        self.right = None"
   ]
  },
  {
   "cell_type": "code",
   "execution_count": null,
   "id": "464d92f1",
   "metadata": {},
   "outputs": [],
   "source": [
    "class Tree:\n",
    "    def maxWidth(self,root):\n",
    "        if not root:\n",
    "            return 0\n",
    "        st = []\n",
    "        st.append([root,0])\n",
    "        maxWidth = 1\n",
    "        while len(st):\n",
    "            currLevelLen = len(st)\n",
    "            currLevelmin = st[0][1]\n",
    "            for i in range(currLevelLen):\n",
    "                node, index = st.pop(0)\n",
    "                if node.left:\n",
    "                    st.append([node.left,2*(index-currLevelmin) + 1])\n",
    "                if node.right:\n",
    "                    st.append([node.right,2*(index-currLevelmin + 1)])\n",
    "            maxWidth = max(maxWidth,st[-1][1]-st[0][1]+1)\n",
    "        return maxWidth"
   ]
  }
 ],
 "metadata": {
  "kernelspec": {
   "display_name": "Python 3 (ipykernel)",
   "language": "python",
   "name": "python3"
  },
  "language_info": {
   "codemirror_mode": {
    "name": "ipython",
    "version": 3
   },
   "file_extension": ".py",
   "mimetype": "text/x-python",
   "name": "python",
   "nbconvert_exporter": "python",
   "pygments_lexer": "ipython3",
   "version": "3.9.7"
  }
 },
 "nbformat": 4,
 "nbformat_minor": 5
}
