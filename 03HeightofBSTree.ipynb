{
 "cells": [
  {
   "cell_type": "code",
   "execution_count": 2,
   "id": "c3260e95",
   "metadata": {},
   "outputs": [],
   "source": [
    "class Node:\n",
    "    \n",
    "    def __init__(self,value):\n",
    "        self.value = value\n",
    "        self.right = None\n",
    "        self.left = None\n",
    "\n",
    "class Tree:\n",
    "    \n",
    "    def createNode(self,value):\n",
    "        root = Node(value)\n",
    "        return root\n",
    "    \n",
    "    def insertNode(self,root,value):\n",
    "        if not root:\n",
    "            return self.createNode(value)\n",
    "        \n",
    "        if root.value > value:\n",
    "            root.left = self.insertNode(root.left,value)\n",
    "        else:\n",
    "            root.right = self.insertNode(root.right,value)\n",
    "        \n",
    "        return root\n",
    "    \n",
    "    def inorderTraversal(self,root):\n",
    "        \n",
    "        if root:\n",
    "            self.inorderTraversal(root.left)\n",
    "            print(root.value)\n",
    "            self.inorderTraversal(root.right)\n",
    "    \n",
    "    def preorderTraversal(self,root):\n",
    "        \n",
    "        if root:\n",
    "            print(root.value)\n",
    "            self.preorderTraversal(root.left)\n",
    "            self.preorderTraversal(root.right)\n",
    "    \n",
    "    def postorderTraversal(self,root):\n",
    "        \n",
    "        if root:\n",
    "            self.postorderTraversal(root.left)\n",
    "            self.postorderTraversal(root.right)\n",
    "            print(root.value)\n",
    "    \n",
    "    def height(self,root):\n",
    "        \n",
    "        if not root:\n",
    "            return 0\n",
    "        \n",
    "        return 1 + max(self.height(root.left),self.height(root.right))\n",
    "\n",
    "    \n"
   ]
  },
  {
   "cell_type": "code",
   "execution_count": 4,
   "id": "2a6de50d",
   "metadata": {},
   "outputs": [],
   "source": [
    "tree = Tree()\n",
    "root = tree.createNode(5)"
   ]
  },
  {
   "cell_type": "code",
   "execution_count": 5,
   "id": "aad4c682",
   "metadata": {},
   "outputs": [
    {
     "name": "stdout",
     "output_type": "stream",
     "text": [
      "2 10 7 15 12 20 30 6 8\n"
     ]
    }
   ],
   "source": [
    "elements = list(int(x) for x in input().split(\" \"))\n",
    "\n",
    "for element in elements:\n",
    "    root = tree.insertNode(root,element)"
   ]
  },
  {
   "cell_type": "code",
   "execution_count": 6,
   "id": "301c2839",
   "metadata": {},
   "outputs": [
    {
     "name": "stdout",
     "output_type": "stream",
     "text": [
      "5\n"
     ]
    }
   ],
   "source": [
    "print(tree.height(root))"
   ]
  }
 ],
 "metadata": {
  "kernelspec": {
   "display_name": "Python 3 (ipykernel)",
   "language": "python",
   "name": "python3"
  },
  "language_info": {
   "codemirror_mode": {
    "name": "ipython",
    "version": 3
   },
   "file_extension": ".py",
   "mimetype": "text/x-python",
   "name": "python",
   "nbconvert_exporter": "python",
   "pygments_lexer": "ipython3",
   "version": "3.9.7"
  }
 },
 "nbformat": 4,
 "nbformat_minor": 5
}
