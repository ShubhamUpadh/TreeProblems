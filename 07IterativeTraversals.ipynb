{
 "cells": [
  {
   "cell_type": "code",
   "execution_count": 19,
   "id": "4cde5b6a",
   "metadata": {},
   "outputs": [],
   "source": [
    "class Node:\n",
    "    def __init__(self,value):\n",
    "        self.value = value\n",
    "        self.left = None\n",
    "        self.right = None\n",
    "        self.level = None\n",
    "\n",
    "class Tree:\n",
    "    \n",
    "    def createNode(self,value):\n",
    "        return Node(value)    \n",
    "    \n",
    "    def insertNode(self,root,value):\n",
    "        if root == None:\n",
    "            return self.createNode(value)\n",
    "        if root.value > value:\n",
    "            root.left = self.insertNode(root.left,value)\n",
    "        else:\n",
    "            root.right = self.insertNode(root.right,value)\n",
    "        return root\n",
    "    \n",
    "    def inOrderTraversal(self,root):    # sorted return karta hai BST ko\n",
    "        if root is None:\n",
    "            return root\n",
    "        self.inOrderTraversal(root.left)\n",
    "        print(root.value,end=\" \")\n",
    "        self.inOrderTraversal(root.right)\n",
    "    \n",
    "    def preOrderTraversal(self,root):\n",
    "        if root is None:\n",
    "            return root\n",
    "        print(root.value,end=\" \")\n",
    "        self.preOrderTraversal(root.left)\n",
    "        self.preOrderTraversal(root.right)\n",
    "\n",
    "    def postOrderTraversal(self,root):\n",
    "        if root is None:\n",
    "            return root\n",
    "        self.postOrderTraversal(root.left)\n",
    "        self.postOrderTraversal(root.right)\n",
    "        print(root.value,end=\" \")\n",
    "        \n",
    "    def height(self,root):\n",
    "        if root is None:\n",
    "            return 0\n",
    "        return 1 + max(self.height(root.left),self.height(root.right))\n",
    "    \n",
    "    def levelOrderTraversal(self,root):\n",
    "        q = []\n",
    "        q.append(root)\n",
    "        while len(q):\n",
    "            root = q.pop(0)\n",
    "            if root.left:\n",
    "                q.append(root.left)\n",
    "            if root.right:\n",
    "                q.append(root.right)\n",
    "            print(root.value, end=\" \")\n",
    "            \n",
    "    def topView(self,root):\n",
    "        hashMap = {}\n",
    "        q = []\n",
    "        q.append(root)\n",
    "        root.level = 0\n",
    "        while len(q):\n",
    "            root = q.pop(0)\n",
    "            if root.level not in hashMap:\n",
    "                hashMap[root.level] = root.value\n",
    "            if root.left:\n",
    "                root.left.level = root.level - 1\n",
    "                q.append(root.left)\n",
    "            if root.right:\n",
    "                root.right.level = root.level + 1\n",
    "                q.append(root.right)\n",
    "        for key in sorted(hashMap):\n",
    "            print(hashMap[key],end=\" \")\n",
    "        \n",
    "    def BST(self,root):        \n",
    "        leftVal, rightVal = float(\"-inf\"), float(\"inf\")\n",
    "        print(leftVal,rightVal)\n",
    "        \n",
    "        def BSThelper(root,leftVal,rightVal):\n",
    "            if root is None:\n",
    "                return True\n",
    "            print(root.value,end= \" \")\n",
    "            if root.left and root.left.value >= root.value:\n",
    "                return False\n",
    "            print(\"COND1\")\n",
    "            if root.right and root.right.value <= root.value:\n",
    "                return False\n",
    "            print(\"COND2\")\n",
    "            if root.value <= leftVal or root.value >= rightVal:\n",
    "                print(\"HERE\")\n",
    "                return False\n",
    "            print(\"COND3\")\n",
    "            return BSThelper(root.left,leftVal,root.value) and BSThelper(root.right,root.value,rightVal)  \n",
    "        return BSThelper(root,leftVal,rightVal)\n",
    "    \n",
    "    \n",
    "    def preOrderIterative(self,root):\n",
    "        # root left right\n",
    "        q = []\n",
    "        q.append(root)\n",
    "        while len(q):\n",
    "            root = q.pop(-1)\n",
    "            print(root.value,end=\" \")\n",
    "            if root.right:\n",
    "                q.append(root.right)\n",
    "            if root.left:\n",
    "                q.append(root.left)\n",
    "                \n",
    "    def inOrderIterative(self,root):\n",
    "        s = []\n",
    "        node = root\n",
    "        while True:\n",
    "            if node:\n",
    "                s.append(node)\n",
    "                node = s[-1].left\n",
    "            if node is None:\n",
    "                if not s:\n",
    "                    break\n",
    "                root = s.pop(-1)\n",
    "                print(root.value,end=\" \")\n",
    "                node = root.right            \n",
    "                \n",
    "    \n",
    "    \n",
    "    \n",
    "    "
   ]
  },
  {
   "cell_type": "code",
   "execution_count": 20,
   "id": "3ac15b05",
   "metadata": {},
   "outputs": [
    {
     "name": "stdout",
     "output_type": "stream",
     "text": [
      "[2, 10, 7, 15, 12, 20, 30]\n",
      "5 2 10 7 15 12 20 30 "
     ]
    }
   ],
   "source": [
    "tree = Tree()\n",
    "root = tree.createNode(5)\n",
    "elements = list(int(x) for x in \"2 10 7 15 12 20 30\".split(\" \"))\n",
    "print(elements)\n",
    "for element in elements:\n",
    "    tree.insertNode(root,element)\n",
    "tree.levelOrderTraversal(root)"
   ]
  },
  {
   "cell_type": "code",
   "execution_count": 21,
   "id": "d3a4e008",
   "metadata": {},
   "outputs": [
    {
     "name": "stdout",
     "output_type": "stream",
     "text": [
      "[30, 20, 40, 80, 60, 90]\n",
      "50 30 20 40 80 60 90 "
     ]
    }
   ],
   "source": [
    "tree = Tree()\n",
    "root = tree.createNode(50)\n",
    "\n",
    "elements = list(int(x) for x in \"30 20 40 80 60 90\".split())\n",
    "print(elements)\n",
    "\n",
    "for element in elements:\n",
    "    tree.insertNode(root,element)\n",
    "tree.preOrderTraversal(root)\n"
   ]
  },
  {
   "cell_type": "code",
   "execution_count": 18,
   "id": "000a13c2",
   "metadata": {},
   "outputs": [
    {
     "name": "stdout",
     "output_type": "stream",
     "text": [
      "5 2 10 7 15 12 20 30 "
     ]
    }
   ],
   "source": [
    "tree.preOrderIterative(root)"
   ]
  },
  {
   "cell_type": "code",
   "execution_count": 22,
   "id": "6e9bb0e5",
   "metadata": {},
   "outputs": [
    {
     "name": "stdout",
     "output_type": "stream",
     "text": [
      "20 30 40 50 60 80 90 "
     ]
    }
   ],
   "source": [
    "tree.inOrderIterative(root)"
   ]
  }
 ],
 "metadata": {
  "kernelspec": {
   "display_name": "Python 3 (ipykernel)",
   "language": "python",
   "name": "python3"
  },
  "language_info": {
   "codemirror_mode": {
    "name": "ipython",
    "version": 3
   },
   "file_extension": ".py",
   "mimetype": "text/x-python",
   "name": "python",
   "nbconvert_exporter": "python",
   "pygments_lexer": "ipython3",
   "version": "3.9.7"
  }
 },
 "nbformat": 4,
 "nbformat_minor": 5
}
