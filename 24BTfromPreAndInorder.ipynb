{
 "cells": [
  {
   "cell_type": "code",
   "execution_count": 1,
   "id": "4865a782",
   "metadata": {},
   "outputs": [],
   "source": [
    "class Node:\n",
    "    def __init__(self,value):\n",
    "        self.value = value\n",
    "        self.left = None\n",
    "        self.right = None"
   ]
  },
  {
   "cell_type": "code",
   "execution_count": null,
   "id": "4ad24356",
   "metadata": {},
   "outputs": [],
   "source": [
    "class Tree:\n",
    "    def inOrderPreorder(inArr,preArr):\n",
    "        inMap = {}\n",
    "        for i in range(len(inArr)):\n",
    "            inMap[inArr[i]] = i"
   ]
  }
 ],
 "metadata": {
  "kernelspec": {
   "display_name": "Python 3 (ipykernel)",
   "language": "python",
   "name": "python3"
  },
  "language_info": {
   "codemirror_mode": {
    "name": "ipython",
    "version": 3
   },
   "file_extension": ".py",
   "mimetype": "text/x-python",
   "name": "python",
   "nbconvert_exporter": "python",
   "pygments_lexer": "ipython3",
   "version": "3.9.7"
  }
 },
 "nbformat": 4,
 "nbformat_minor": 5
}
