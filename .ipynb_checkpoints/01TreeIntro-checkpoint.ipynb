{
 "cells": [
  {
   "cell_type": "code",
   "execution_count": 28,
   "id": "410d5f47",
   "metadata": {},
   "outputs": [],
   "source": [
    "class Node:\n",
    "    \n",
    "    def __init__(self,value):\n",
    "        self.left = None\n",
    "        self.right = None\n",
    "        self.value = value\n",
    "\n",
    "class Tree:\n",
    "    \n",
    "    def createNode(self,data):\n",
    "        newNode = Node(data)\n",
    "        return newNode\n",
    "    \n",
    "    def insertNode(self,currentNode,data):\n",
    "        if currentNode is None:\n",
    "            return self.createNode(data)\n",
    "        \n",
    "        if currentNode.value > data:\n",
    "            currentNode.left = self.insertNode(currentNode.left,data)\n",
    "\n",
    "        else:\n",
    "            currentNode.right = self.insertNode(currentNode.right,data)\n",
    "        \n",
    "        return currentNode\n",
    "    \n",
    "    def inorderTraversal(self,root):\n",
    "        \n",
    "        if root is not None:\n",
    "            self.inorderTraversal(root.left)\n",
    "            print(root.value)\n",
    "            self.inorderTraversal(root.right)\n",
    "        \n",
    "        \n",
    "        \n",
    "            \n",
    "     "
   ]
  },
  {
   "cell_type": "code",
   "execution_count": 29,
   "id": "b151bc85",
   "metadata": {},
   "outputs": [
    {
     "name": "stdout",
     "output_type": "stream",
     "text": [
      "5\n",
      "None None\n"
     ]
    }
   ],
   "source": [
    "tree = Tree()\n",
    "root = tree.createNode(5)\n",
    "print(root.value)\n",
    "print(root.left,root.right)"
   ]
  },
  {
   "cell_type": "code",
   "execution_count": 30,
   "id": "97f18d4b",
   "metadata": {},
   "outputs": [
    {
     "data": {
      "text/plain": [
       "<__main__.Node at 0x14f59b60880>"
      ]
     },
     "execution_count": 30,
     "metadata": {},
     "output_type": "execute_result"
    }
   ],
   "source": [
    "tree.insertNode(root,2)\n",
    "tree.insertNode(root,10)\n",
    "tree.insertNode(root,7)\n",
    "tree.insertNode(root,15)\n",
    "tree.insertNode(root,12)\n",
    "tree.insertNode(root,30)\n",
    "tree.insertNode(root,6)\n",
    "tree.insertNode(root,8)\n",
    "\n",
    "\n"
   ]
  },
  {
   "cell_type": "code",
   "execution_count": 31,
   "id": "268c254a",
   "metadata": {},
   "outputs": [
    {
     "name": "stdout",
     "output_type": "stream",
     "text": [
      "2\n",
      "5\n",
      "6\n",
      "7\n",
      "8\n",
      "10\n",
      "12\n",
      "15\n",
      "30\n"
     ]
    }
   ],
   "source": [
    "tree.inorderTraversal(root)"
   ]
  }
 ],
 "metadata": {
  "kernelspec": {
   "display_name": "Python 3 (ipykernel)",
   "language": "python",
   "name": "python3"
  },
  "language_info": {
   "codemirror_mode": {
    "name": "ipython",
    "version": 3
   },
   "file_extension": ".py",
   "mimetype": "text/x-python",
   "name": "python",
   "nbconvert_exporter": "python",
   "pygments_lexer": "ipython3",
   "version": "3.9.7"
  }
 },
 "nbformat": 4,
 "nbformat_minor": 5
}
