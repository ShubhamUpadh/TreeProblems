{
 "cells": [
  {
   "cell_type": "code",
   "execution_count": 1,
   "id": "3c2f015d",
   "metadata": {},
   "outputs": [],
   "source": [
    "class Node:\n",
    "    def __init__(self,value):\n",
    "        self.value = value\n",
    "        self.left = None\n",
    "        self.right = None\n",
    "        self.location = None"
   ]
  },
  {
   "cell_type": "code",
   "execution_count": null,
   "id": "a28cdc90",
   "metadata": {},
   "outputs": [],
   "source": [
    "class Tree:\n",
    "    def createNode(self,value):\n",
    "        return Node(value)\n",
    "    \n",
    "    def insertNode(Self,root,value):\n",
    "        if root is None:\n",
    "            return self.createNode(value)\n",
    "        if root.value > value:\n",
    "            root.left = self.insertNode(root.left,value)\n",
    "        else:\n",
    "            root.right = self.insertNode(root.right,value)\n",
    "        return root\n",
    "    \n",
    "    def verticalOrder(self,root):\n",
    "        if root is None:\n",
    "            return \n",
    "        root.location = 0\n",
    "        hashMap = {}\n",
    "        q = []\n",
    "        q.append(root)\n",
    "        retList = []\n",
    "        while len(q):\n",
    "            root = q.pop(0)\n",
    "            if root.location in hashMap:\n",
    "                hashMap[root.location].append(root.value)\n",
    "            else: \n",
    "                hashMap[root.location] = [root.value]\n",
    "            \n",
    "            if root.left:\n",
    "                root.left.location = root.location - 1\n",
    "                q.append(root.left)\n",
    "            if root.right:\n",
    "                root.right.location = root.location + 1\n",
    "                q.append(root.right)\n",
    "        for keys in sorted(hashMap):\n",
    "            retList.append(hashMap[keys])\n",
    "        return retList"
   ]
  }
 ],
 "metadata": {
  "kernelspec": {
   "display_name": "Python 3 (ipykernel)",
   "language": "python",
   "name": "python3"
  },
  "language_info": {
   "codemirror_mode": {
    "name": "ipython",
    "version": 3
   },
   "file_extension": ".py",
   "mimetype": "text/x-python",
   "name": "python",
   "nbconvert_exporter": "python",
   "pygments_lexer": "ipython3",
   "version": "3.9.7"
  }
 },
 "nbformat": 4,
 "nbformat_minor": 5
}
