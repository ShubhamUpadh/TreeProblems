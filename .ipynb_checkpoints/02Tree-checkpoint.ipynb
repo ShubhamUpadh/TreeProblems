{
 "cells": [
  {
   "cell_type": "code",
   "execution_count": 17,
   "id": "d257b810",
   "metadata": {},
   "outputs": [],
   "source": [
    "class Node:\n",
    "    \n",
    "    def __init__(self,value):\n",
    "        self.value = value\n",
    "        self.right = None\n",
    "        self.left = None\n",
    "\n",
    "class Tree:\n",
    "    \n",
    "    def createNode(self,value):\n",
    "        root = Node(value)\n",
    "        return root\n",
    "    \n",
    "    def insertNode(self,root,value):\n",
    "        if not root:\n",
    "            return self.createNode(value)\n",
    "        \n",
    "        if root.value > value:\n",
    "            root.left = self.insertNode(root.left,value)\n",
    "        else:\n",
    "            root.right = self.insertNode(root.right,value)\n",
    "        \n",
    "        return root\n",
    "    \n",
    "    def inorderTraversal(self,root):\n",
    "        \n",
    "        if root:\n",
    "            self.inorderTraversal(root.left)\n",
    "            print(root.value)\n",
    "            self.inorderTraversal(root.right)\n",
    "    \n",
    "    def preorderTraversal(self,root):\n",
    "        \n",
    "        if root:\n",
    "            print(root.value)\n",
    "            self.preorderTraversal(root.left)\n",
    "            self.preorderTraversal(root.right)\n",
    "    \n",
    "    def postorderTraversal(self,root):\n",
    "        \n",
    "        if root:\n",
    "            self.postorderTraversal(root.left)\n",
    "            self.postorderTraversal(root.right)\n",
    "            print(root.value)\n",
    "\n",
    "    \n"
   ]
  },
  {
   "cell_type": "code",
   "execution_count": 18,
   "id": "e2c8482f",
   "metadata": {},
   "outputs": [],
   "source": [
    "tree = Tree()\n",
    "root = tree.createNode(5)"
   ]
  },
  {
   "cell_type": "code",
   "execution_count": 19,
   "id": "428e9609",
   "metadata": {},
   "outputs": [
    {
     "name": "stdout",
     "output_type": "stream",
     "text": [
      "Enter BST member elements -> 1 2 3 15 32 12 9 10\n"
     ]
    }
   ],
   "source": [
    "elements = list(int(x) for x in input(\"Enter BST member elements -> \").split(\" \"))\n",
    "\n",
    "for element in elements:\n",
    "    tree.insertNode(root,element)"
   ]
  },
  {
   "cell_type": "code",
   "execution_count": 20,
   "id": "ff335ba6",
   "metadata": {},
   "outputs": [
    {
     "name": "stdout",
     "output_type": "stream",
     "text": [
      "1\n",
      "2\n",
      "3\n",
      "5\n",
      "9\n",
      "10\n",
      "12\n",
      "15\n",
      "32\n"
     ]
    }
   ],
   "source": [
    "tree.inorderTraversal(root)"
   ]
  },
  {
   "cell_type": "code",
   "execution_count": 21,
   "id": "0475a6ca",
   "metadata": {},
   "outputs": [
    {
     "name": "stdout",
     "output_type": "stream",
     "text": [
      "5\n",
      "1\n",
      "2\n",
      "3\n",
      "15\n",
      "12\n",
      "9\n",
      "10\n",
      "32\n"
     ]
    }
   ],
   "source": [
    "tree.preorderTraversal(root)"
   ]
  },
  {
   "cell_type": "code",
   "execution_count": 22,
   "id": "43db09a1",
   "metadata": {},
   "outputs": [
    {
     "name": "stdout",
     "output_type": "stream",
     "text": [
      "3\n",
      "2\n",
      "1\n",
      "10\n",
      "9\n",
      "12\n",
      "32\n",
      "15\n",
      "5\n"
     ]
    }
   ],
   "source": [
    "tree.postorderTraversal(root)"
   ]
  }
 ],
 "metadata": {
  "kernelspec": {
   "display_name": "Python 3 (ipykernel)",
   "language": "python",
   "name": "python3"
  },
  "language_info": {
   "codemirror_mode": {
    "name": "ipython",
    "version": 3
   },
   "file_extension": ".py",
   "mimetype": "text/x-python",
   "name": "python",
   "nbconvert_exporter": "python",
   "pygments_lexer": "ipython3",
   "version": "3.9.7"
  }
 },
 "nbformat": 4,
 "nbformat_minor": 5
}
