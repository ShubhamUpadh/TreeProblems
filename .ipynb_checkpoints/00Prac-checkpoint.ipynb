{
 "cells": [
  {
   "cell_type": "code",
   "execution_count": 120,
   "id": "dd616e05",
   "metadata": {},
   "outputs": [],
   "source": [
    "class Node:\n",
    "    def __init__(self,value):\n",
    "        self.value = value\n",
    "        self.left = None\n",
    "        self.right = None\n",
    "        self.level = None\n",
    "\n",
    "class Tree:\n",
    "    \n",
    "    def createNode(self,value):\n",
    "        return Node(value)    \n",
    "    \n",
    "    def insertNode(self,root,value):\n",
    "        if root == None:\n",
    "            return self.createNode(value)\n",
    "        if root.value > value:\n",
    "            root.left = self.insertNode(root.left,value)\n",
    "        else:\n",
    "            root.right = self.insertNode(root.right,value)\n",
    "        return root\n",
    "    \n",
    "    def inOrderTraversal(self,root):    # sorted return karta hai BST ko\n",
    "        if root is None:\n",
    "            return root\n",
    "        self.inOrderTraversal(root.left)\n",
    "        print(root.value,end=\" \")\n",
    "        self.inOrderTraversal(root.right)\n",
    "    \n",
    "    def preOrderTraversal(self,root):\n",
    "        if root is None:\n",
    "            return root\n",
    "        print(root.value,end=\" \")\n",
    "        self.preOrderTraversal(root.left)\n",
    "        self.preOrderTraversal(root.right)\n",
    "\n",
    "    def postOrderTraversal(self,root):\n",
    "        if root is None:\n",
    "            return root\n",
    "        self.postOrderTraversal(root.left)\n",
    "        self.postOrderTraversal(root.right)\n",
    "        print(root.value,end=\" \")\n",
    "        \n",
    "    \n",
    "    def height(self,root):\n",
    "        if root is None:\n",
    "            return 0\n",
    "        return 1 + max(self.height(root.left),self.height(root.right))\n",
    "    \n",
    "    def levelOrderTraversal(self,root):\n",
    "        q = []\n",
    "        q.append(root)\n",
    "        while len(q):\n",
    "            root = q.pop(0)\n",
    "            if root.left:\n",
    "                q.append(root.left)\n",
    "            if root.right:\n",
    "                q.append(root.right)\n",
    "            print(root.value, end=\" \")\n",
    "            \n",
    "    def topView(self,root):\n",
    "        hashMap = {}\n",
    "        q = []\n",
    "        q.append(root)\n",
    "        root.level = 0\n",
    "        while len(q):\n",
    "            root = q.pop(0)\n",
    "            if root.level not in hashMap:\n",
    "                hashMap[root.level] = root.value\n",
    "            if root.left:\n",
    "                root.left.level = root.level - 1\n",
    "                q.append(root.left)\n",
    "            if root.right:\n",
    "                root.right.level = root.level + 1\n",
    "                q.append(root.right)\n",
    "        for key in sorted(hashMap):\n",
    "            print(hashMap[key],end=\" \")\n",
    "        \n",
    "        \n",
    "    \n",
    "    def BST(self,root):        \n",
    "        leftVal, rightVal = float(\"-inf\"), float(\"inf\")\n",
    "        print(leftVal,rightVal)\n",
    "        \n",
    "        def BSThelper(root,leftVal,rightVal):\n",
    "            if root is None:\n",
    "                return True\n",
    "            print(root.value,end= \" \")\n",
    "            if root.left and root.left.value >= root.value:\n",
    "                return False\n",
    "            if root.right and root.right.value <= root.value:\n",
    "                return False\n",
    "            if root.value <= leftVal or root.value >= rightVal:\n",
    "                print(\"HERE\")\n",
    "                return False\n",
    "            return BSThelper(root.left,leftVal,root.value) and BSThelper(root.right,root.value,rightVal)\n",
    "        \n",
    "        return BSThelper(root,leftVal,rightVal)\n",
    "        \n",
    "         \n",
    "        \n",
    "        \n",
    "        "
   ]
  },
  {
   "cell_type": "code",
   "execution_count": 121,
   "id": "c0e5ab1b",
   "metadata": {},
   "outputs": [
    {
     "name": "stdout",
     "output_type": "stream",
     "text": [
      "[2, 10, 7, 15, 12, 20, 30]\n",
      "5 2 10 7 15 12 20 30 "
     ]
    }
   ],
   "source": [
    "tree = Tree()\n",
    "root = tree.createNode(5)\n",
    "elements = list(int(x) for x in \"2 10 7 15 12 20 30\".split(\" \"))\n",
    "print(elements)\n",
    "for element in elements:\n",
    "    tree.insertNode(root,element)\n",
    "tree.levelOrderTraversal(root)"
   ]
  },
  {
   "cell_type": "code",
   "execution_count": 122,
   "id": "eba0444d",
   "metadata": {},
   "outputs": [
    {
     "name": "stdout",
     "output_type": "stream",
     "text": [
      "-inf inf\n",
      "5 COND1\n",
      "COND2\n",
      "COND3\n",
      "2 COND1\n",
      "COND2\n",
      "COND3\n",
      "10 COND1\n",
      "COND2\n",
      "COND3\n",
      "7 COND1\n",
      "COND2\n",
      "COND3\n",
      "15 COND1\n",
      "COND2\n",
      "COND3\n",
      "12 COND1\n",
      "COND2\n",
      "COND3\n",
      "20 COND1\n",
      "COND2\n",
      "COND3\n",
      "30 COND1\n",
      "COND2\n",
      "COND3\n"
     ]
    },
    {
     "data": {
      "text/plain": [
       "True"
      ]
     },
     "execution_count": 122,
     "metadata": {},
     "output_type": "execute_result"
    }
   ],
   "source": [
    "tree.BST(root)"
   ]
  },
  {
   "cell_type": "code",
   "execution_count": 77,
   "id": "7bc8bb77",
   "metadata": {},
   "outputs": [
    {
     "name": "stdout",
     "output_type": "stream",
     "text": [
      "[2, 10, 7, 15, 12, 20, 30]\n"
     ]
    }
   ],
   "source": [
    "elements = list(int(x) for x in \"2 10 7 15 12 20 30\".split(\" \"))\n",
    "print(elements)"
   ]
  },
  {
   "cell_type": "code",
   "execution_count": 78,
   "id": "4c52e1c1",
   "metadata": {},
   "outputs": [],
   "source": [
    "for element in elements:\n",
    "    tree.insertNode(root,element)"
   ]
  },
  {
   "cell_type": "code",
   "execution_count": 94,
   "id": "ddf1b4c5",
   "metadata": {},
   "outputs": [
    {
     "name": "stdout",
     "output_type": "stream",
     "text": [
      "2 5 7 10 12 15 20 30 "
     ]
    }
   ],
   "source": [
    "tree.inOrderTraversal(root)"
   ]
  },
  {
   "cell_type": "code",
   "execution_count": 48,
   "id": "10a56d72",
   "metadata": {},
   "outputs": [
    {
     "data": {
      "text/plain": [
       "5"
      ]
     },
     "execution_count": 48,
     "metadata": {},
     "output_type": "execute_result"
    }
   ],
   "source": [
    "tree.height(root)"
   ]
  },
  {
   "cell_type": "code",
   "execution_count": 49,
   "id": "43a24808",
   "metadata": {},
   "outputs": [
    {
     "name": "stdout",
     "output_type": "stream",
     "text": [
      "5 2 10 7 15 12 20 30 "
     ]
    }
   ],
   "source": [
    "tree.levelOrderTraversal(root)"
   ]
  },
  {
   "cell_type": "code",
   "execution_count": 50,
   "id": "83cf3200",
   "metadata": {},
   "outputs": [
    {
     "name": "stdout",
     "output_type": "stream",
     "text": [
      "2 5 10 15 20 30 "
     ]
    }
   ],
   "source": [
    "tree.topView(root)"
   ]
  },
  {
   "cell_type": "code",
   "execution_count": 93,
   "id": "d3dba834",
   "metadata": {},
   "outputs": [
    {
     "data": {
      "text/plain": [
       "False"
      ]
     },
     "execution_count": 93,
     "metadata": {},
     "output_type": "execute_result"
    }
   ],
   "source": [
    "tree.BST(root)"
   ]
  }
 ],
 "metadata": {
  "kernelspec": {
   "display_name": "Python 3 (ipykernel)",
   "language": "python",
   "name": "python3"
  },
  "language_info": {
   "codemirror_mode": {
    "name": "ipython",
    "version": 3
   },
   "file_extension": ".py",
   "mimetype": "text/x-python",
   "name": "python",
   "nbconvert_exporter": "python",
   "pygments_lexer": "ipython3",
   "version": "3.9.7"
  }
 },
 "nbformat": 4,
 "nbformat_minor": 5
}
