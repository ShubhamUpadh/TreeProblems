{
 "cells": [
  {
   "cell_type": "code",
   "execution_count": 33,
   "id": "93b95084",
   "metadata": {},
   "outputs": [],
   "source": [
    "class Node:\n",
    "    \n",
    "    def __init__(self,value):\n",
    "        self.value = value\n",
    "        self.left = None\n",
    "        self.right = None\n",
    "        self.level = None\n",
    "\n",
    "class Tree:\n",
    "    \n",
    "    def createNode(self,value):\n",
    "        return Node(value)\n",
    "    \n",
    "    def insertNode(self,root,value):\n",
    "        if not root:\n",
    "            return self.createNode(value)\n",
    "        if root.value > value:\n",
    "            root.left = self.insertNode(root.left,value)\n",
    "        else:\n",
    "            root.right = self.insertNode(root.right,value)\n",
    "        return root\n",
    "    \n",
    "    def inOrder(self,root):\n",
    "        if root is None:\n",
    "            return\n",
    "        self.inOrder(root.left)\n",
    "        print(root.value)\n",
    "        self.inOrder(root.right)\n",
    "    \n",
    "    def levelOrder(self,root):\n",
    "        q = []\n",
    "        q.append(root)\n",
    "        while len(q):\n",
    "            root = q.pop(0)\n",
    "            print(root.value,end = \" \")\n",
    "            if root.left:\n",
    "                q.append(root.left)\n",
    "            if root.right:\n",
    "                q.append(root.right)\n",
    "    \n",
    "    \n",
    "    \n",
    "    def height(self,root):\n",
    "        \n",
    "        if not root:\n",
    "            return 0\n",
    "        \n",
    "        return 1 + max(self.height(root.left),self.height(root.right))\n",
    "                \n",
    "        \n",
    "    def maxLeft(self,root):\n",
    "        if root is None:\n",
    "            return 0\n",
    "        return 1 + self.maxLeft(root.left)\n",
    "    \n",
    "    def maxRight(self,root):\n",
    "        if root is None:\n",
    "            return 0\n",
    "        return 1 + self.maxRight(root.right)\n",
    "    \n",
    "    def topView(self,root):\n",
    "        \n",
    "        q = []\n",
    "        hashMap = {}\n",
    "        q.append(root)\n",
    "        root.level = 0\n",
    "        \n",
    "        while len(q):\n",
    "            root = q.pop(0)\n",
    "            if root.level not in hashMap:\n",
    "                hashMap[root.level] = root.value\n",
    "            if root.left:\n",
    "                q.append(root.left)\n",
    "                root.left.level = root.level - 1\n",
    "            if root.right:\n",
    "                q.append(root.right)\n",
    "                root.right.level = root.level + 1\n",
    "        \n",
    "        for i in sorted(hashMap):\n",
    "            print(hashMap[i],end=\" \")\n",
    "            \n",
    "    \n",
    "        \n",
    "        \n"
   ]
  },
  {
   "cell_type": "code",
   "execution_count": 40,
   "id": "abd1905e",
   "metadata": {},
   "outputs": [],
   "source": [
    "tree = Tree()\n",
    "root = tree.createNode(5)\n"
   ]
  },
  {
   "cell_type": "code",
   "execution_count": 41,
   "id": "4929ceae",
   "metadata": {},
   "outputs": [
    {
     "name": "stdout",
     "output_type": "stream",
     "text": [
      "[2, 10, 9, 7, 6, 15, 12, 20, 30, 8]\n"
     ]
    }
   ],
   "source": [
    "elements = list(int(x) for x in \"2 10 9 7 6 15 12 20 30 8\".split(\" \"))\n",
    "print(elements)\n",
    "\n",
    "for element in elements:\n",
    "    tree.insertNode(root,element)"
   ]
  },
  {
   "cell_type": "code",
   "execution_count": 42,
   "id": "35d7907b",
   "metadata": {},
   "outputs": [
    {
     "name": "stdout",
     "output_type": "stream",
     "text": [
      "2\n",
      "5\n",
      "6\n",
      "7\n",
      "8\n",
      "9\n",
      "10\n",
      "12\n",
      "15\n",
      "20\n",
      "30\n"
     ]
    }
   ],
   "source": [
    "tree.inOrder(root)"
   ]
  },
  {
   "cell_type": "code",
   "execution_count": 43,
   "id": "d138e677",
   "metadata": {},
   "outputs": [
    {
     "name": "stdout",
     "output_type": "stream",
     "text": [
      "5 2 10 9 15 7 12 20 6 8 30 "
     ]
    }
   ],
   "source": [
    "tree.levelOrder(root)"
   ]
  },
  {
   "cell_type": "code",
   "execution_count": 44,
   "id": "fc816cd8",
   "metadata": {},
   "outputs": [
    {
     "name": "stdout",
     "output_type": "stream",
     "text": [
      "6 2 5 10 15 20 30 "
     ]
    }
   ],
   "source": [
    "tree.topView(root)"
   ]
  }
 ],
 "metadata": {
  "kernelspec": {
   "display_name": "Python 3 (ipykernel)",
   "language": "python",
   "name": "python3"
  },
  "language_info": {
   "codemirror_mode": {
    "name": "ipython",
    "version": 3
   },
   "file_extension": ".py",
   "mimetype": "text/x-python",
   "name": "python",
   "nbconvert_exporter": "python",
   "pygments_lexer": "ipython3",
   "version": "3.9.7"
  }
 },
 "nbformat": 4,
 "nbformat_minor": 5
}
