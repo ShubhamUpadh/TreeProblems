{
 "cells": [
  {
   "cell_type": "code",
   "execution_count": 1,
   "id": "7b863802",
   "metadata": {},
   "outputs": [],
   "source": [
    "class Node:\n",
    "    def __init__(self,value):\n",
    "        self.value = value\n",
    "        self.left = None\n",
    "        self.right = None"
   ]
  },
  {
   "cell_type": "code",
   "execution_count": null,
   "id": "374a4a59",
   "metadata": {},
   "outputs": [],
   "source": [
    "class Tree:\n",
    "    def childrenSumProp(self,root):\n",
    "        if root is None:\n",
    "            return\n",
    "        \n",
    "        childSum = 0\n",
    "        childSum += root.left.value if root.left else 0\n",
    "        childSum += root.right.value if root.right else 0\n",
    "        \n",
    "        if childSum >=root.value:\n",
    "            root.value = childSum\n",
    "        else:\n",
    "            if root.left:\n",
    "                root.left.value = root.value\n",
    "            if root.right:\n",
    "                root.right.value = root.value\n",
    "        \n",
    "        childrenSumProp(root.left)\n",
    "        childrenSumProp(root.right)\n",
    "        \n",
    "        updateSum = 0\n",
    "        updateSum += root.left.value if root.left else 0\n",
    "        updateSum += root.right.value if root.right else 0\n",
    "        \n",
    "        if root.left or root.right:\n",
    "            root.value = updateSum\n",
    "        \n",
    "            "
   ]
  }
 ],
 "metadata": {
  "kernelspec": {
   "display_name": "Python 3 (ipykernel)",
   "language": "python",
   "name": "python3"
  },
  "language_info": {
   "codemirror_mode": {
    "name": "ipython",
    "version": 3
   },
   "file_extension": ".py",
   "mimetype": "text/x-python",
   "name": "python",
   "nbconvert_exporter": "python",
   "pygments_lexer": "ipython3",
   "version": "3.9.7"
  }
 },
 "nbformat": 4,
 "nbformat_minor": 5
}
