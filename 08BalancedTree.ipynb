{
 "cells": [
  {
   "cell_type": "code",
   "execution_count": null,
   "id": "e02ce6f8",
   "metadata": {},
   "outputs": [],
   "source": [
    "class Node:\n",
    "    def __init__(self,value):\n",
    "        self.left = None\n",
    "        self.value = value\n",
    "        self.right - right\n",
    "\n",
    "class Tree:\n",
    "    def createNode(self,value):\n",
    "        return Node(value)\n",
    "    \n",
    "    def insertNode(self,root,value):\n",
    "        if not root:\n",
    "            return Node(value)\n",
    "        if root.value > value:\n",
    "            root.left = self.insertNode(root.left,value)\n",
    "        else:\n",
    "            root.right = self.insertNode(root.right,value)\n",
    "        return root\n",
    "    \n",
    "    def balancedBT(self,root):\n",
    "        def balancedBThelper(root):\n",
    "            if not root:\n",
    "                return 0\n",
    "            lh = 1 + balancedBThelper(root.left)\n",
    "            rh = 1 + balancedBThelper(root.right)\n",
    "            if -1 in (lh,rh):\n",
    "                return -1\n",
    "            if abs(lh-rh) > 1:\n",
    "                return -1\n",
    "            return max(lh,rh)\n",
    "        \n",
    "        helperVal = balancedBThelper(root)\n",
    "        if helperVal == -1:\n",
    "            return False\n",
    "        else:\n",
    "            return True\n",
    "        \n",
    "            "
   ]
  }
 ],
 "metadata": {
  "kernelspec": {
   "display_name": "Python 3 (ipykernel)",
   "language": "python",
   "name": "python3"
  },
  "language_info": {
   "codemirror_mode": {
    "name": "ipython",
    "version": 3
   },
   "file_extension": ".py",
   "mimetype": "text/x-python",
   "name": "python",
   "nbconvert_exporter": "python",
   "pygments_lexer": "ipython3",
   "version": "3.9.7"
  }
 },
 "nbformat": 4,
 "nbformat_minor": 5
}
