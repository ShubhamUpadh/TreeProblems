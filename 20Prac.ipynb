{
 "cells": [
  {
   "cell_type": "code",
   "execution_count": 1,
   "id": "d230a139",
   "metadata": {},
   "outputs": [],
   "source": [
    "class Node:\n",
    "    def __init__(self,value):\n",
    "        self.left = None\n",
    "        self.value = value\n",
    "        self.right = None"
   ]
  },
  {
   "cell_type": "code",
   "execution_count": null,
   "id": "f013881e",
   "metadata": {},
   "outputs": [],
   "source": [
    "class Tree:\n",
    "    def isSymmetric(self,root):\n",
    "        if root is None:\n",
    "            return True\n",
    "        def helper(root1,root2):\n",
    "            if root1 == None or root2 is None:\n",
    "                return root1 == root2\n",
    "            if root1.value == root2.value:\n",
    "                return helper(root1.left,root2.right) and helper(root1.right,root2.left)\n",
    "            return False\n",
    "        return isSymmetric(root.left,root.right)\n",
    "    \n",
    "    def rootToNodePath(self,root,num):\n",
    "        arr = []\n",
    "        def helper(root,arr,num):\n",
    "            if root is None:\n",
    "                return False\n",
    "            arr.append(root.value)\n",
    "            if root.value == num:\n",
    "                return True\n",
    "            leftCheck = helper(root.left,arr,num)\n",
    "            rightCheck = helper(root.right,arr,num)\n",
    "            if leftCheck or rightCheck:\n",
    "                return True\n",
    "            else:\n",
    "                arr.pop()\n",
    "                return False\n",
    "    \n",
    "    def LCA(root,p,q):\n",
    "        if root is None or root in(p,q):\n",
    "            return root\n",
    "        leftCheck = self.LCA(root.left,p,q)\n",
    "        rightCheck = self.LCA(root.right,p,q)\n",
    "        if leftCheck is None:\n",
    "            return rightCheck\n",
    "        elif rightCheck is None:\n",
    "            return leftCheck\n",
    "        else:\n",
    "            return root\n",
    "    \n",
    "    def maxWidth(root):\n",
    "        "
   ]
  }
 ],
 "metadata": {
  "kernelspec": {
   "display_name": "Python 3 (ipykernel)",
   "language": "python",
   "name": "python3"
  },
  "language_info": {
   "codemirror_mode": {
    "name": "ipython",
    "version": 3
   },
   "file_extension": ".py",
   "mimetype": "text/x-python",
   "name": "python",
   "nbconvert_exporter": "python",
   "pygments_lexer": "ipython3",
   "version": "3.9.7"
  }
 },
 "nbformat": 4,
 "nbformat_minor": 5
}
