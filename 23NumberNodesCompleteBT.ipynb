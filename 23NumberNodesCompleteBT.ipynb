{
 "cells": [
  {
   "cell_type": "code",
   "execution_count": 1,
   "id": "9af77442",
   "metadata": {},
   "outputs": [],
   "source": [
    "class Node:\n",
    "    def __init__(self,value):\n",
    "        self.value = value\n",
    "        self.left = None\n",
    "        self.right = None"
   ]
  },
  {
   "cell_type": "code",
   "execution_count": null,
   "id": "9326e5f8",
   "metadata": {},
   "outputs": [],
   "source": [
    "class Tree:\n",
    "    def numberOfNodes(self,root):\n",
    "        if root is None:\n",
    "            return 0\n",
    "        lh = self.leftHeight(root.left)\n",
    "        rh = self.rightHeight(root.right)\n",
    "        \n",
    "        if lh == rh:\n",
    "            return 2**(lh) - 1\n",
    "        else:\n",
    "            return 1 + self.numberOfNodes(root.left) + self.numberOfNodes(root.right)\n",
    "    \n",
    "    def leftHeight(self,root):\n",
    "        if root is None:\n",
    "            return 0\n",
    "        return 1 + self.leftHeight(root.left)\n",
    "    \n",
    "    def rightHeight(self,root):\n",
    "        if root is None:\n",
    "            return 0\n",
    "        return 1 + self.rightHeight(root.right)\n",
    "    "
   ]
  }
 ],
 "metadata": {
  "kernelspec": {
   "display_name": "Python 3 (ipykernel)",
   "language": "python",
   "name": "python3"
  },
  "language_info": {
   "codemirror_mode": {
    "name": "ipython",
    "version": 3
   },
   "file_extension": ".py",
   "mimetype": "text/x-python",
   "name": "python",
   "nbconvert_exporter": "python",
   "pygments_lexer": "ipython3",
   "version": "3.9.7"
  }
 },
 "nbformat": 4,
 "nbformat_minor": 5
}
